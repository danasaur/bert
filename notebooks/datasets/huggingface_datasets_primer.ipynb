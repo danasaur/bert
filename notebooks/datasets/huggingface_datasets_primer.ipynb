{
 "cells": [
  {
   "cell_type": "markdown",
   "metadata": {},
   "source": [
    "# Hugging Face Data Loader and Datasets\n",
    "\n",
    "Key Takeaways:\n",
    "1. The hugging face hub has so many datasets to play with!\n",
    "2. The load_dataset function is super flexible!"
   ]
  },
  {
   "cell_type": "code",
   "execution_count": 3,
   "metadata": {},
   "outputs": [],
   "source": [
    "%%capture\n",
    "!pip install datasets # uncomment this to install the datasets library! "
   ]
  },
  {
   "cell_type": "code",
   "execution_count": 4,
   "metadata": {},
   "outputs": [],
   "source": [
    "from datasets import load_dataset"
   ]
  },
  {
   "cell_type": "code",
   "execution_count": 5,
   "metadata": {},
   "outputs": [],
   "source": [
    "# help(load_dataset)"
   ]
  },
  {
   "cell_type": "code",
   "execution_count": null,
   "metadata": {},
   "outputs": [],
   "source": [
    "# # example of loading a dataset from a local file\n",
    "# dataset = load_dataset(\"json\", data_files=\"yelp.json\")\n",
    "\n",
    "# dataset.shape, dataset.column_names"
   ]
  },
  {
   "cell_type": "code",
   "execution_count": null,
   "metadata": {},
   "outputs": [],
   "source": [
    "# # example of loading a dataset from a local folder\n",
    "# dataset = load_dataset(\"json\", data_files=\"./data/*.json\")\n",
    "\n",
    "# dataset.shape, dataset.column_names"
   ]
  },
  {
   "cell_type": "code",
   "execution_count": 6,
   "metadata": {},
   "outputs": [
    {
     "name": "stderr",
     "output_type": "stream",
     "text": [
      "Found cached dataset csv (/Users/d/.cache/huggingface/datasets/csv/default-db37b5a90645732d/0.0.0/6954658bab30a358235fa864b05cf819af0e179325c740e4bc853bcc7ec513e1)\n"
     ]
    },
    {
     "data": {
      "application/vnd.jupyter.widget-view+json": {
       "model_id": "c4aced7431ae4486ade36df01350dc0c",
       "version_major": 2,
       "version_minor": 0
      },
      "text/plain": [
       "  0%|          | 0/1 [00:00<?, ?it/s]"
      ]
     },
     "metadata": {},
     "output_type": "display_data"
    }
   ],
   "source": [
    "# example of loading a dataset from a remote file\n",
    "dataset = load_dataset(\"csv\", data_files=\"https://raw.githubusercontent.com/anilatif/DataScience/f7a7624e9a42af3c263b6f05ade6a3cf9ffe29b4/Yelp%20Sentiment%20Analysis/yelpsampleannotated.csv\")"
   ]
  },
  {
   "cell_type": "code",
   "execution_count": 7,
   "metadata": {},
   "outputs": [
    {
     "data": {
      "text/plain": [
       "({'train': (125, 31)},\n",
       " {'train': ['HITId',\n",
       "   'HITTypeId',\n",
       "   'Title',\n",
       "   'Description',\n",
       "   'Keywords',\n",
       "   'Reward',\n",
       "   'CreationTime',\n",
       "   'MaxAssignments',\n",
       "   'RequesterAnnotation',\n",
       "   'AssignmentDurationInSeconds',\n",
       "   'AutoApprovalDelayInSeconds',\n",
       "   'Expiration',\n",
       "   'NumberOfSimilarHITs',\n",
       "   'LifetimeInSeconds',\n",
       "   'AssignmentId',\n",
       "   'WorkerId',\n",
       "   'AssignmentStatus',\n",
       "   'AcceptTime',\n",
       "   'SubmitTime',\n",
       "   'AutoApprovalTime',\n",
       "   'ApprovalTime',\n",
       "   'RejectionTime',\n",
       "   'RequesterFeedback',\n",
       "   'WorkTimeInSeconds',\n",
       "   'LifetimeApprovalRate',\n",
       "   'Last30DaysApprovalRate',\n",
       "   'Last7DaysApprovalRate',\n",
       "   'Input.text',\n",
       "   'Answer.sentiment.label',\n",
       "   'Approve',\n",
       "   'Reject']})"
      ]
     },
     "execution_count": 7,
     "metadata": {},
     "output_type": "execute_result"
    }
   ],
   "source": [
    "dataset.shape, dataset.column_names"
   ]
  },
  {
   "cell_type": "code",
   "execution_count": 8,
   "metadata": {},
   "outputs": [
    {
     "data": {
      "text/plain": [
       "'Total bill for this horrible service? Over $8Gs. These crooks actually had the nerve to charge us $69 for 3 pills. I checked online the pills can be had for 19 cents EACH! Avoid Hospital ERs at all costs.'"
      ]
     },
     "execution_count": 8,
     "metadata": {},
     "output_type": "execute_result"
    }
   ],
   "source": [
    "dataset[\"train\"][\"Input.text\"][0]"
   ]
  },
  {
   "cell_type": "code",
   "execution_count": 9,
   "metadata": {},
   "outputs": [
    {
     "data": {
      "text/plain": [
       "\"I *adore* Travis at the Hard Rock's new Kelly Cardenas Salon!  I'm always a fan of a great blowout and no stranger to the chains that offer this service; however, Travis has taken the flawless blowout to a whole new level!  \\n\\nTravis's greets you with his perfectly green swoosh in his otherwise perfectly styled black hair and a Vegas-worthy rockstar outfit.  Next comes the most relaxing and incredible shampoo -- where you get a full head message that could cure even the very worst migraine in minutes --- and the scented shampoo room.  Travis has freakishly strong fingers (in a good way) and use the perfect amount of pressure.  That was superb!  Then starts the glorious blowout... where not one, not two, but THREE people were involved in doing the best round-brush action my hair has ever seen.  The team of stylists clearly gets along extremely well, as it's evident from the way they talk to and help one another that it's really genuine and not some corporate requirement.  It was so much fun to be there! \\n\\nNext Travis started with the flat iron.  The way he flipped his wrist to get volume all around without over-doing it and making me look like a Texas pagent girl was admirable.  It's also worth noting that he didn't fry my hair -- something that I've had happen before with less skilled stylists.  At the end of the blowout & style my hair was perfectly bouncey and looked terrific.  The only thing better?  That this awesome blowout lasted for days! \\n\\nTravis, I will see you every single time I'm out in Vegas.  You make me feel beauuuutiful!\""
      ]
     },
     "execution_count": 9,
     "metadata": {},
     "output_type": "execute_result"
    }
   ],
   "source": [
    "dataset[\"train\"][\"Input.text\"][5]"
   ]
  },
  {
   "cell_type": "code",
   "execution_count": null,
   "metadata": {},
   "outputs": [],
   "source": []
  }
 ],
 "metadata": {
  "kernelspec": {
   "display_name": "bert",
   "language": "python",
   "name": "python3"
  },
  "language_info": {
   "codemirror_mode": {
    "name": "ipython",
    "version": 3
   },
   "file_extension": ".py",
   "mimetype": "text/x-python",
   "name": "python",
   "nbconvert_exporter": "python",
   "pygments_lexer": "ipython3",
   "version": "3.9.16"
  },
  "orig_nbformat": 4
 },
 "nbformat": 4,
 "nbformat_minor": 2
}
