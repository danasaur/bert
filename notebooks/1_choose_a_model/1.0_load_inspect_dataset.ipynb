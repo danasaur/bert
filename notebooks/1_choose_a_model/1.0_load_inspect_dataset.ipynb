{
 "cells": [
  {
   "attachments": {},
   "cell_type": "markdown",
   "metadata": {},
   "source": [
    "# Let's inspect this yelp dataset"
   ]
  },
  {
   "cell_type": "code",
   "execution_count": 1,
   "metadata": {},
   "outputs": [],
   "source": [
    "# !pip install datasets"
   ]
  },
  {
   "cell_type": "code",
   "execution_count": 2,
   "metadata": {},
   "outputs": [],
   "source": [
    "from datasets import load_dataset"
   ]
  },
  {
   "cell_type": "code",
   "execution_count": 48,
   "metadata": {},
   "outputs": [],
   "source": [
    "import pandas as pd"
   ]
  },
  {
   "cell_type": "code",
   "execution_count": 3,
   "metadata": {},
   "outputs": [
    {
     "name": "stderr",
     "output_type": "stream",
     "text": [
      "Found cached dataset yelp_review_full (/Users/d/.cache/huggingface/datasets/yelp_review_full/yelp_review_full/1.0.0/e8e18e19d7be9e75642fc66b198abadb116f73599ec89a69ba5dd8d1e57ba0bf)\n"
     ]
    },
    {
     "data": {
      "application/vnd.jupyter.widget-view+json": {
       "model_id": "0b94b3bb7ad24fd29b1818e3fc07df32",
       "version_major": 2,
       "version_minor": 0
      },
      "text/plain": [
       "  0%|          | 0/2 [00:00<?, ?it/s]"
      ]
     },
     "metadata": {},
     "output_type": "display_data"
    }
   ],
   "source": [
    "dataset = load_dataset(\"yelp_review_full\")"
   ]
  },
  {
   "cell_type": "code",
   "execution_count": 4,
   "metadata": {},
   "outputs": [
    {
     "data": {
      "text/plain": [
       "({'train': (650000, 2), 'test': (50000, 2)},\n",
       " {'train': ['label', 'text'], 'test': ['label', 'text']})"
      ]
     },
     "execution_count": 4,
     "metadata": {},
     "output_type": "execute_result"
    }
   ],
   "source": [
    "dataset.shape, dataset.column_names"
   ]
  },
  {
   "cell_type": "code",
   "execution_count": 5,
   "metadata": {},
   "outputs": [
    {
     "data": {
      "text/plain": [
       "'My expectations for McDonalds are t rarely high. But for one to still fail so spectacularly...that takes something special!\\\\nThe cashier took my friends\\'s order, then promptly ignored me. I had to force myself in front of a cashier who opened his register to wait on the person BEHIND me. I waited over five minutes for a gigantic order that included precisely one kid\\'s meal. After watching two people who ordered after me be handed their food, I asked where mine was. The manager started yelling at the cashiers for \\\\\"serving off their orders\\\\\" when they didn\\'t have their food. But neither cashier was anywhere near those controls, and the manager was the one serving food to customers and clearing the boards.\\\\nThe manager was rude when giving me my order. She didn\\'t make sure that I had everything ON MY RECEIPT, and never even had the decency to apologize that I felt I was getting poor service.\\\\nI\\'ve eaten at various McDonalds restaurants for over 30 years. I\\'ve worked at more than one location. I expect bad days, bad moods, and the occasional mistake. But I have yet to have a decent experience at this store. It will remain a place I avoid unless someone in my party needs to avoid illness from low blood sugar. Perhaps I should go back to the racially biased service of Steak n Shake instead!'"
      ]
     },
     "execution_count": 5,
     "metadata": {},
     "output_type": "execute_result"
    }
   ],
   "source": [
    "dataset['train'][100][\"text\"]"
   ]
  },
  {
   "cell_type": "code",
   "execution_count": 7,
   "metadata": {},
   "outputs": [],
   "source": [
    "with open(\"mcdonalds_fail.txt\", \"w\") as f:\n",
    "    f.write(dataset['train'][100][\"text\"])"
   ]
  },
  {
   "cell_type": "code",
   "execution_count": 8,
   "metadata": {},
   "outputs": [],
   "source": [
    "# Convert to pandas dataframe\n",
    "df = dataset['train'].to_pandas()"
   ]
  },
  {
   "cell_type": "code",
   "execution_count": 9,
   "metadata": {},
   "outputs": [
    {
     "data": {
      "text/html": [
       "<div>\n",
       "<style scoped>\n",
       "    .dataframe tbody tr th:only-of-type {\n",
       "        vertical-align: middle;\n",
       "    }\n",
       "\n",
       "    .dataframe tbody tr th {\n",
       "        vertical-align: top;\n",
       "    }\n",
       "\n",
       "    .dataframe thead th {\n",
       "        text-align: right;\n",
       "    }\n",
       "</style>\n",
       "<table border=\"1\" class=\"dataframe\">\n",
       "  <thead>\n",
       "    <tr style=\"text-align: right;\">\n",
       "      <th></th>\n",
       "      <th>label</th>\n",
       "      <th>text</th>\n",
       "    </tr>\n",
       "  </thead>\n",
       "  <tbody>\n",
       "    <tr>\n",
       "      <th>0</th>\n",
       "      <td>4</td>\n",
       "      <td>dr. goldberg offers everything i look for in a...</td>\n",
       "    </tr>\n",
       "    <tr>\n",
       "      <th>1</th>\n",
       "      <td>1</td>\n",
       "      <td>Unfortunately, the frustration of being Dr. Go...</td>\n",
       "    </tr>\n",
       "    <tr>\n",
       "      <th>2</th>\n",
       "      <td>3</td>\n",
       "      <td>Been going to Dr. Goldberg for over 10 years. ...</td>\n",
       "    </tr>\n",
       "    <tr>\n",
       "      <th>3</th>\n",
       "      <td>3</td>\n",
       "      <td>Got a letter in the mail last week that said D...</td>\n",
       "    </tr>\n",
       "    <tr>\n",
       "      <th>4</th>\n",
       "      <td>0</td>\n",
       "      <td>I don't know what Dr. Goldberg was like before...</td>\n",
       "    </tr>\n",
       "  </tbody>\n",
       "</table>\n",
       "</div>"
      ],
      "text/plain": [
       "   label                                               text\n",
       "0      4  dr. goldberg offers everything i look for in a...\n",
       "1      1  Unfortunately, the frustration of being Dr. Go...\n",
       "2      3  Been going to Dr. Goldberg for over 10 years. ...\n",
       "3      3  Got a letter in the mail last week that said D...\n",
       "4      0  I don't know what Dr. Goldberg was like before..."
      ]
     },
     "execution_count": 9,
     "metadata": {},
     "output_type": "execute_result"
    }
   ],
   "source": [
    "df.head()"
   ]
  },
  {
   "cell_type": "code",
   "execution_count": 12,
   "metadata": {},
   "outputs": [
    {
     "data": {
      "text/plain": [
       "label\n",
       "4    130000\n",
       "1    130000\n",
       "3    130000\n",
       "0    130000\n",
       "2    130000\n",
       "Name: count, dtype: int64"
      ]
     },
     "execution_count": 12,
     "metadata": {},
     "output_type": "execute_result"
    }
   ],
   "source": [
    "df['label'].value_counts() # 0 = 1 star, 1 = 2 star, 2 = 3 star, 3 = 4 star, 4 = 5 star"
   ]
  },
  {
   "cell_type": "code",
   "execution_count": 17,
   "metadata": {},
   "outputs": [
    {
     "data": {
      "text/plain": [
       "\"This place is absolute garbage...  Half of the tees are not available, including all the grass tees.  It is cash only, and they sell the last bucket at 8, despite having lights.  And if you finish even a minute after 8, don't plan on getting a drink.  The vending machines are sold out (of course) and they sell drinks inside, but close the drawers at 8 on the dot.  There are weeds grown all over the place.  I noticed some sort of batting cage, but it looks like those are out of order as well.  Someone should buy this place and turn it into what it should be.\""
      ]
     },
     "execution_count": 17,
     "metadata": {},
     "output_type": "execute_result"
    }
   ],
   "source": [
    "df[df['label'] == 0]['text'].values[3]"
   ]
  },
  {
   "cell_type": "code",
   "execution_count": 19,
   "metadata": {},
   "outputs": [],
   "source": [
    "df[df['label'] == 0].to_csv(\"yelp_1star.csv\", index=False)"
   ]
  },
  {
   "cell_type": "code",
   "execution_count": 22,
   "metadata": {},
   "outputs": [],
   "source": [
    "with open(\"yelp_1star.txt\", \"w\") as f:\n",
    "    for i in range(100):\n",
    "        f.write(df[df['label'] == 0]['text'].values[i])\n",
    "        f.write(\"\\n\\n\")"
   ]
  },
  {
   "cell_type": "code",
   "execution_count": 23,
   "metadata": {},
   "outputs": [
    {
     "data": {
      "text/html": [
       "<div>\n",
       "<style scoped>\n",
       "    .dataframe tbody tr th:only-of-type {\n",
       "        vertical-align: middle;\n",
       "    }\n",
       "\n",
       "    .dataframe tbody tr th {\n",
       "        vertical-align: top;\n",
       "    }\n",
       "\n",
       "    .dataframe thead th {\n",
       "        text-align: right;\n",
       "    }\n",
       "</style>\n",
       "<table border=\"1\" class=\"dataframe\">\n",
       "  <thead>\n",
       "    <tr style=\"text-align: right;\">\n",
       "      <th></th>\n",
       "      <th>label</th>\n",
       "      <th>text</th>\n",
       "    </tr>\n",
       "  </thead>\n",
       "  <tbody>\n",
       "    <tr>\n",
       "      <th>0</th>\n",
       "      <td>4</td>\n",
       "      <td>dr. goldberg offers everything i look for in a...</td>\n",
       "    </tr>\n",
       "    <tr>\n",
       "      <th>1</th>\n",
       "      <td>1</td>\n",
       "      <td>Unfortunately, the frustration of being Dr. Go...</td>\n",
       "    </tr>\n",
       "    <tr>\n",
       "      <th>2</th>\n",
       "      <td>3</td>\n",
       "      <td>Been going to Dr. Goldberg for over 10 years. ...</td>\n",
       "    </tr>\n",
       "    <tr>\n",
       "      <th>3</th>\n",
       "      <td>3</td>\n",
       "      <td>Got a letter in the mail last week that said D...</td>\n",
       "    </tr>\n",
       "    <tr>\n",
       "      <th>4</th>\n",
       "      <td>0</td>\n",
       "      <td>I don't know what Dr. Goldberg was like before...</td>\n",
       "    </tr>\n",
       "  </tbody>\n",
       "</table>\n",
       "</div>"
      ],
      "text/plain": [
       "   label                                               text\n",
       "0      4  dr. goldberg offers everything i look for in a...\n",
       "1      1  Unfortunately, the frustration of being Dr. Go...\n",
       "2      3  Been going to Dr. Goldberg for over 10 years. ...\n",
       "3      3  Got a letter in the mail last week that said D...\n",
       "4      0  I don't know what Dr. Goldberg was like before..."
      ]
     },
     "execution_count": 23,
     "metadata": {},
     "output_type": "execute_result"
    }
   ],
   "source": [
    "df.head()"
   ]
  },
  {
   "cell_type": "code",
   "execution_count": 34,
   "metadata": {},
   "outputs": [
    {
     "data": {
      "image/png": "[encoded data removed]",
      "text/plain": [
       "<Figure size 1000x500 with 2 Axes>"
      ]
     },
     "metadata": {},
     "output_type": "display_data"
    }
   ],
   "source": [
    "from matplotlib import pyplot as plt\n",
    "# create histograms of the length of text for each label (1-5 stars) two plots side by side\n",
    "fig, ax = plt.subplots(1, 2, figsize=(10, 5))\n",
    "df[df['label'] == 0]['text'].str.len().hist(ax=ax[0], color='red')\n",
    "ax[0].set_title('1 star')\n",
    "df[df['label'] == 4]['text'].str.len().hist(ax=ax[1], color='green')\n",
    "ax[1].set_title('5 star')\n",
    "fig.suptitle('Characters in texts')\n",
    "plt.show()\n"
   ]
  },
  {
   "cell_type": "code",
   "execution_count": 43,
   "metadata": {},
   "outputs": [
    {
     "name": "stdout",
     "output_type": "stream",
     "text": [
      "1-star reviews \n",
      " count    130000.000000\n",
      "mean        815.307762\n",
      "std         761.491098\n",
      "min           1.000000\n",
      "25%         308.000000\n",
      "50%         581.000000\n",
      "75%        1056.000000\n",
      "max        5115.000000\n",
      "Name: text, dtype: float64\n",
      "5-star reviews \n",
      " count    130000.000000\n",
      "mean        579.838346\n",
      "std         560.303570\n",
      "min           1.000000\n",
      "25%         220.000000\n",
      "50%         408.000000\n",
      "75%         741.000000\n",
      "max        5214.000000\n",
      "Name: text, dtype: float64\n"
     ]
    }
   ],
   "source": [
    "# describe the length of text for each label\n",
    "for i in [0, 4]:\n",
    "    print(f\"{i+1}-star reviews \\n {df[df['label'] == i]['text'].str.len().describe()}\")"
   ]
  },
  {
   "cell_type": "code",
   "execution_count": 46,
   "metadata": {},
   "outputs": [],
   "source": [
    "df_1star = df[df['label'] == 0]"
   ]
  },
  {
   "cell_type": "code",
   "execution_count": 50,
   "metadata": {},
   "outputs": [],
   "source": [
    "# create a dictionary of words and their frequency in the 1-star reviews\n",
    "freq_1star = pd.Series(' '.join(df_1star['text']).split()).value_counts()"
   ]
  },
  {
   "cell_type": "code",
   "execution_count": 51,
   "metadata": {},
   "outputs": [
    {
     "data": {
      "text/plain": [
       "(515253,)"
      ]
     },
     "execution_count": 51,
     "metadata": {},
     "output_type": "execute_result"
    }
   ],
   "source": [
    "freq_1star.shape"
   ]
  },
  {
   "cell_type": "code",
   "execution_count": 54,
   "metadata": {},
   "outputs": [
    {
     "data": {
      "text/plain": [
       "the             812005\n",
       "and             582869\n",
       "to              570231\n",
       "I               532489\n",
       "a               435294\n",
       "                 ...  \n",
       "John;                1\n",
       "know.....\\nI         1\n",
       "aftger               1\n",
       "anyday\\\".            1\n",
       "RYAN,                1\n",
       "Name: count, Length: 515253, dtype: int64"
      ]
     },
     "execution_count": 54,
     "metadata": {},
     "output_type": "execute_result"
    }
   ],
   "source": [
    "freq_1star"
   ]
  },
  {
   "cell_type": "code",
   "execution_count": 55,
   "metadata": {},
   "outputs": [
    {
     "data": {
      "text/plain": [
       "0                    I\n",
       "1                don't\n",
       "2                 know\n",
       "3                 what\n",
       "4                  Dr.\n",
       "               ...    \n",
       "19690978        OWNER,\n",
       "19690979           YOU\n",
       "19690980        SHOULD\n",
       "19690981          KNOW\n",
       "19690982    BETTER!!!!\n",
       "Length: 19690983, dtype: object"
      ]
     },
     "execution_count": 55,
     "metadata": {},
     "output_type": "execute_result"
    }
   ],
   "source": [
    "pd.Series(' '.join(df_1star['text']).split())"
   ]
  },
  {
   "cell_type": "code",
   "execution_count": 133,
   "metadata": {},
   "outputs": [
    {
     "data": {
      "text/plain": [
       "4         i dont know what dr goldberg was like before  ...\n",
       "7         im writing this review to give you a heads up ...\n",
       "10        owning a driving range inside the city limits ...\n",
       "11        this place is absolute garbage  half of the te...\n",
       "24        used to go there for tires brakes etc  their p...\n",
       "                                ...                        \n",
       "649980    really disappointing either the place was havi...\n",
       "649988    first please note that many people are reviewi...\n",
       "649996    phone calls always go to voicemail and message...\n",
       "649997    looks like all of the good reviews have gone t...\n",
       "649999    i have been using this company for 11 months  ...\n",
       "Name: text, Length: 130000, dtype: object"
      ]
     },
     "execution_count": 133,
     "metadata": {},
     "output_type": "execute_result"
    }
   ],
   "source": [
    "# remove punctuation and lowercase text for 1-star reviews\n",
    "import string\n",
    "df_1star['text'].str.lower().str.strip(string.punctuation)"
   ]
  },
  {
   "cell_type": "code",
   "execution_count": 138,
   "metadata": {},
   "outputs": [
    {
     "data": {
      "text/plain": [
       "4         i dont know what dr goldberg was like before  ...\n",
       "7         im writing this review to give you a heads up ...\n",
       "10        owning a driving range inside the city limits ...\n",
       "11        this place is absolute garbage  half of the te...\n",
       "24        used to go there for tires brakes etc  their p...\n",
       "                                ...                        \n",
       "649980    really disappointing either the place was havi...\n",
       "649988    first please note that many people are reviewi...\n",
       "649996    phone calls always go to voicemail and message...\n",
       "649997    looks like all of the good reviews have gone t...\n",
       "649999    i have been using this company for 11 months  ...\n",
       "Name: text, Length: 130000, dtype: object"
      ]
     },
     "execution_count": 138,
     "metadata": {},
     "output_type": "execute_result"
    }
   ],
   "source": [
    "# remove new line characters for 1-star reviews <- this isn't working\n",
    "df_1star['text'].str.replace(\"\\n\", \" \")"
   ]
  },
  {
   "cell_type": "code",
   "execution_count": 147,
   "metadata": {},
   "outputs": [
    {
     "data": {
      "text/plain": [
       "4         i dont know what dr goldberg was like before  ...\n",
       "7         im writing this review to give you a heads up ...\n",
       "10        owning a driving range inside the city limits ...\n",
       "11        this place is absolute garbage  half of the te...\n",
       "24        used to go there for tires brakes etc  their p...\n",
       "                                ...                        \n",
       "649980    really disappointing either the place was havi...\n",
       "649988    first please note that many people are reviewi...\n",
       "649996    phone calls always go to voicemail and message...\n",
       "649997    looks like all of the good reviews have gone t...\n",
       "649999    i have been using this company for 11 months  ...\n",
       "Name: text, Length: 130000, dtype: object"
      ]
     },
     "execution_count": 147,
     "metadata": {},
     "output_type": "execute_result"
    }
   ],
   "source": [
    "df_1star['text']"
   ]
  },
  {
   "cell_type": "code",
   "execution_count": 139,
   "metadata": {},
   "outputs": [
    {
     "data": {
      "text/plain": [
       "0                i\n",
       "1             dont\n",
       "2             know\n",
       "3             what\n",
       "4               dr\n",
       "             ...  \n",
       "19669085     owner\n",
       "19669086       you\n",
       "19669087    should\n",
       "19669088      know\n",
       "19669089    better\n",
       "Length: 19669090, dtype: object"
      ]
     },
     "execution_count": 139,
     "metadata": {},
     "output_type": "execute_result"
    }
   ],
   "source": [
    "pd.Series(' '.join(df_1star['text']).split())"
   ]
  },
  {
   "cell_type": "code",
   "execution_count": 140,
   "metadata": {},
   "outputs": [],
   "source": [
    "freq_1star = pd.Series(' '.join(df_1star['text']).split()).value_counts()"
   ]
  },
  {
   "cell_type": "code",
   "execution_count": 141,
   "metadata": {},
   "outputs": [
    {
     "data": {
      "text/plain": [
       "(287555,)"
      ]
     },
     "execution_count": 141,
     "metadata": {},
     "output_type": "execute_result"
    }
   ],
   "source": [
    "freq_1star.shape"
   ]
  },
  {
   "cell_type": "code",
   "execution_count": 148,
   "metadata": {},
   "outputs": [
    {
     "data": {
      "text/plain": [
       "thousand-calorie      1\n",
       "\\nahh                 1\n",
       "retreadsome           1\n",
       "bathbombs             1\n",
       "skindrink             1\n",
       "few\\nparabens         1\n",
       "organic/all           1\n",
       "car-jacked            1\n",
       "knifepoint            1\n",
       "fabulous\\n\\ndo        1\n",
       "\\n\\ncamera            1\n",
       "\\ncraigslist          1\n",
       "work\\nbring           1\n",
       "off-the-clock         1\n",
       "gank                  1\n",
       "klassy\\n\\nand         1\n",
       "gang-infested         1\n",
       "scarey-ass            1\n",
       "btw\\n\\nthis           1\n",
       "hey-day               1\n",
       "1975-1985             1\n",
       "movieand              1\n",
       "00s                   1\n",
       "holdups               1\n",
       "product-buying        1\n",
       "mud\\nshe              1\n",
       "obererons             1\n",
       "ground\\n\\nonce        1\n",
       "\\n\\nmenus             1\n",
       "colts-                1\n",
       "laterwhich            1\n",
       "terrible\\n\\nsalsa     1\n",
       "leave\\ni              1\n",
       "3pm-6pm\\              1\n",
       "\\correcting\\          1\n",
       "ayesha                1\n",
       "ball\\n\\n-             1\n",
       "fry/microwave         1\n",
       "review\\n\\njenna       1\n",
       "something\\n\\nupon     1\n",
       "message\\ni            1\n",
       "message\\n\\nfinally    1\n",
       "do\\\\n\\nfirst          1\n",
       "recognizeable         1\n",
       "in\\n\\nupper           1\n",
       "wildcats              1\n",
       "-oregon               1\n",
       "you-know-whats        1\n",
       "blitzs                1\n",
       "communicationnot      1\n",
       "Name: count, dtype: int64"
      ]
     },
     "execution_count": 148,
     "metadata": {},
     "output_type": "execute_result"
    }
   ],
   "source": [
    "freq_1star[-50:]"
   ]
  },
  {
   "cell_type": "code",
   "execution_count": null,
   "metadata": {},
   "outputs": [],
   "source": []
  }
 ],
 "metadata": {
  "kernelspec": {
   "display_name": "Python 3",
   "language": "python",
   "name": "python3"
  },
  "language_info": {
   "codemirror_mode": {
    "name": "ipython",
    "version": 3
   },
   "file_extension": ".py",
   "mimetype": "text/x-python",
   "name": "python",
   "nbconvert_exporter": "python",
   "pygments_lexer": "ipython3",
   "version": "3.8.16"
  },
  "orig_nbformat": 4
 },
 "nbformat": 4,
 "nbformat_minor": 2
}
